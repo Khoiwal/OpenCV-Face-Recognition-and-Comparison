{
 "cells": [
  {
   "cell_type": "code",
   "execution_count": 1,
   "metadata": {},
   "outputs": [
    {
     "name": "stderr",
     "output_type": "stream",
     "text": [
      "/home/vagrant/anaconda3/envs/tensorflow/lib/python3.6/site-packages/sklearn/cross_validation.py:44: DeprecationWarning: This module was deprecated in version 0.18 in favor of the model_selection module into which all the refactored classes and functions are moved. Also note that the interface of the new CV iterators are different from that of this module. This module will be removed in 0.20.\n",
      "  \"This module will be removed in 0.20.\", DeprecationWarning)\n",
      "Using TensorFlow backend.\n"
     ]
    }
   ],
   "source": [
    "# https://github.com/rajathkmp/FaceRecog/blob/master/faceRecog.ipynb\n",
    "import cv2\n",
    "import numpy as np\n",
    "import os\n",
    "# from skimage import io\n",
    "from sklearn.cross_validation import train_test_split\n",
    "import matplotlib.pyplot as plt\n",
    "\n",
    "from keras.utils import np_utils\n",
    "from keras.models import Sequential\n",
    "from keras.layers import Dense, Dropout, Activation"
   ]
  },
  {
   "cell_type": "code",
   "execution_count": 2,
   "metadata": {
    "collapsed": true
   },
   "outputs": [],
   "source": [
    "men1 = cv2.imread('men1.jpg')\n",
    "men1 = cv2.cvtColor(men1, cv2.COLOR_BGR2GRAY)\n",
    "# men1 = cv2.equalizeHist(men1)\n",
    "\n",
    "men2 = cv2.imread('men2.jpg')\n",
    "men2 = cv2.cvtColor(men2, cv2.COLOR_BGR2GRAY)\n",
    "# men2 = cv2.equalizeHist(men2)"
   ]
  },
  {
   "cell_type": "code",
   "execution_count": 3,
   "metadata": {
    "collapsed": true
   },
   "outputs": [],
   "source": [
    "# http://docs.opencv.org/master/d7/d8b/tutorial_py_face_detection.html\n",
    "# https://github.com/opencv/opencv/blob/master/samples/python/facedetect.py\n",
    "face_path = '/home/vagrant/anaconda3/envs/tensorflow/share/OpenCV/haarcascades/haarcascade_frontalface_default.xml';\n",
    "face_cascade = cv2.CascadeClassifier(face_path)\n",
    "\n",
    "# eye_path = '/home/vagrant/anaconda3/envs/tensorflow/share/OpenCV/haarcascades/haarcascade_eye.xml';\n",
    "# eye_cascade = cv2.CascadeClassifier(eye_path)"
   ]
  },
  {
   "cell_type": "code",
   "execution_count": 4,
   "metadata": {},
   "outputs": [
    {
     "data": {
      "text/plain": [
       "array([[110, 108, 106, ..., 114, 116, 116],\n",
       "       [111, 109, 107, ..., 114, 114, 115],\n",
       "       [111, 110, 108, ..., 112, 113, 113],\n",
       "       ..., \n",
       "       [137, 141, 141, ...,  64,  58,  51],\n",
       "       [138, 141, 140, ...,  66,  63,  55],\n",
       "       [139, 141, 140, ...,  64,  63,  56]], dtype=uint8)"
      ]
     },
     "execution_count": 4,
     "metadata": {},
     "output_type": "execute_result"
    }
   ],
   "source": [
    "men2"
   ]
  },
  {
   "cell_type": "code",
   "execution_count": 5,
   "metadata": {
    "collapsed": true
   },
   "outputs": [],
   "source": [
    "facePoints1 = face_cascade.detectMultiScale(men1, scaleFactor=1.3, minNeighbors=5, minSize=(30, 30), \n",
    "                                           flags=cv2.CASCADE_SCALE_IMAGE)\n",
    "facePoints2 = face_cascade.detectMultiScale(men2, scaleFactor=1.3, minNeighbors=5, minSize=(30, 30), \n",
    "                                           flags=cv2.CASCADE_SCALE_IMAGE)"
   ]
  },
  {
   "cell_type": "code",
   "execution_count": null,
   "metadata": {
    "collapsed": true
   },
   "outputs": [],
   "source": [
    "m1x,m1y = facePoints1[0][:2]\n",
    "men1_cropped = men1[m1y: m1y + 150, m1x: m1x + 150]\n",
    "\n",
    "m2x,m2y = facePoints2[0][:2]\n",
    "men2_cropped = men2[m2y: m2y + 150, m2x: m2x + 150]"
   ]
  },
  {
   "cell_type": "code",
   "execution_count": null,
   "metadata": {
    "collapsed": true
   },
   "outputs": [],
   "source": [
    "# Load image\n",
    "x,y,w,h = facePoints1[0]\n",
    "cv2.rectangle(men1,(x,y),(x+w,y+h),(255,0,0),2)\n",
    "cv2.imshow('Men1',men1)\n",
    "cv2.waitKey(0)\n",
    "cv2.destroyAllWindows()"
   ]
  },
  {
   "cell_type": "code",
   "execution_count": 12,
   "metadata": {
    "collapsed": true
   },
   "outputs": [],
   "source": [
    "r_men1 = men1_cropped.reshape(1, 150*150)\n",
    "r_men2 = men2_cropped.reshape(1, 150*150)"
   ]
  },
  {
   "cell_type": "code",
   "execution_count": 13,
   "metadata": {
    "collapsed": true
   },
   "outputs": [],
   "source": [
    "r_men1 = r_men1.astype('float32')\n",
    "r_men1 /= 255\n",
    "r_men2 = r_men2.astype('float32')\n",
    "r_men2 /= 255"
   ]
  },
  {
   "cell_type": "code",
   "execution_count": 14,
   "metadata": {},
   "outputs": [
    {
     "data": {
      "text/plain": [
       "array([[ 0.52941179,  0.45882353,  0.36470589, ...,  0.67450982,\n",
       "         0.7019608 ,  0.58431375]], dtype=float32)"
      ]
     },
     "execution_count": 14,
     "metadata": {},
     "output_type": "execute_result"
    }
   ],
   "source": []
  },
  {
   "cell_type": "code",
   "execution_count": 9,
   "metadata": {
    "collapsed": true
   },
   "outputs": [],
   "source": [
    "# If true/false, what is the number of class?\n",
    "number_of_class = 2\n",
    "\n",
    "model = Sequential()\n",
    "model.add(Dense(512,input_shape=(150*150,)))\n",
    "model.add(Activation('relu'))\n",
    "model.add(Dropout(0.2))\n",
    "model.add(Dense(512))\n",
    "model.add(Activation('relu'))\n",
    "model.add(Dropout(0.2))\n",
    "model.add(Dense(number_of_class))\n",
    "model.add(Activation('softmax'))"
   ]
  },
  {
   "cell_type": "code",
   "execution_count": 10,
   "metadata": {},
   "outputs": [
    {
     "name": "stdout",
     "output_type": "stream",
     "text": [
      "_________________________________________________________________\n",
      "Layer (type)                 Output Shape              Param #   \n",
      "=================================================================\n",
      "dense_1 (Dense)              (None, 512)               11520512  \n",
      "_________________________________________________________________\n",
      "activation_1 (Activation)    (None, 512)               0         \n",
      "_________________________________________________________________\n",
      "dropout_1 (Dropout)          (None, 512)               0         \n",
      "_________________________________________________________________\n",
      "dense_2 (Dense)              (None, 512)               262656    \n",
      "_________________________________________________________________\n",
      "activation_2 (Activation)    (None, 512)               0         \n",
      "_________________________________________________________________\n",
      "dropout_2 (Dropout)          (None, 512)               0         \n",
      "_________________________________________________________________\n",
      "dense_3 (Dense)              (None, 2)                 1026      \n",
      "_________________________________________________________________\n",
      "activation_3 (Activation)    (None, 2)                 0         \n",
      "=================================================================\n",
      "Total params: 11,784,194\n",
      "Trainable params: 11,784,194\n",
      "Non-trainable params: 0\n",
      "_________________________________________________________________\n"
     ]
    }
   ],
   "source": [
    "model.summary()"
   ]
  },
  {
   "cell_type": "code",
   "execution_count": 11,
   "metadata": {
    "collapsed": true
   },
   "outputs": [],
   "source": [
    "model.compile(loss='binary_crossentropy', optimizer=\"adam\", metrics=['accuracy'])"
   ]
  },
  {
   "cell_type": "code",
   "execution_count": null,
   "metadata": {
    "collapsed": true
   },
   "outputs": [],
   "source": [
    "# What is Y_train?\n",
    "# model.fit(X_train, Y_train, batch_size=1, epoch=10, verbose=1)"
   ]
  }
 ],
 "metadata": {
  "kernelspec": {
   "display_name": "Python 3",
   "language": "python",
   "name": "python3"
  },
  "language_info": {
   "codemirror_mode": {
    "name": "ipython",
    "version": 3
   },
   "file_extension": ".py",
   "mimetype": "text/x-python",
   "name": "python",
   "nbconvert_exporter": "python",
   "pygments_lexer": "ipython3",
   "version": "3.6.2"
  }
 },
 "nbformat": 4,
 "nbformat_minor": 2
}
